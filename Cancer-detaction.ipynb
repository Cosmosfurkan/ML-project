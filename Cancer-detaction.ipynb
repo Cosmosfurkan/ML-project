from google.colab import drive
drive.mount('/content/drive')

import matplotlib.pyplot as plt
import numpy as np
import os
import PIL
import tensorflow as tf

from tensorflow import keras
from tensorflow.keras import layers
from tensorflow.keras.models import Sequential

from sklearn.utils import shuffle
from tensorflow import keras
import numpy as np
import matplotlib.pyplot as plt
%matplotlib inline
import tensorflow as tf
import os
import cv2
import PIL

# Verilerin bulunduğu klasörün yolu
folder_path = '/content/drive/My Drive/ChestXray'

# Sınıfların adları
classes = ['NORMAL', 'PNEUMONIA']

# Verileri tutacak listeler
data = []
labels = []

# All class
for index, class_name in enumerate(classes):
    # Path to the folder where the class is located
    class_path = os.path.join(folder_path, class_name)
    # For each file in the folder where the files are located
    for filename in os.listdir(class_path):
        # creat file path
        img_path = os.path.join(class_path, filename)
        # read file
        img = cv2.imread(img_path, cv2.IMREAD_GRAYSCALE)
        # Resize file size
        img = cv2.resize(img, (28, 28))
        # Add to data list
        data.append(img)
        # Add tag to list
        labels.append(index)

# Convert data and tags to NumPy arrays
data = np.array(data)
labels = np.array(labels)

# shuffle data
data, labels = shuffle(data, labels)

# Normalization
data = data.astype("float32") / 255.0

# Since the data is mixed, 80% is used as 20%.
split_index = int(len(data) * 0.8)
x_train, y_train = data[:split_index], labels[:split_index]
x_test, y_test = data[split_index:], labels[split_index:]


# Print the size of the data to the screen
print('Eğitim verisi boyutu:', x_train.shape)
print('Test verisi boyutu:', x_test.shape)

from keras import regularizers

model = keras.models.Sequential()
model.add(keras.Input(shape=(28, 28, 1)))  # Add channel dimension
model.add(layers.Conv2D(64, (3, 3), activation='relu'))
model.add(layers.MaxPooling2D(pool_size=(2, 2)))
model.add(layers.Dropout(0.6))
model.add(layers.Conv2D(128, (3, 3), activation='relu'))
model.add(layers.MaxPooling2D(pool_size=(2, 2)))
model.add(layers.Dropout(0.5))
model.add(layers.Flatten())
model.add(layers.Dense(128, activation='relu'))
model.add(layers.Dropout(0.5))
model.add(layers.Dense(2, activation='softmax'))
print(model.summary())

# loss and optimizer
loss = keras.losses.SparseCategoricalCrossentropy()
optim = keras.optimizers.Adam(lr=0.0001)
metrics = ["accuracy"]

model.compile(loss=loss, optimizer=optim, metrics=metrics)

# training
batch_size = 30
epochs = 50

# Reshape the input data to have a channel dimension
x_train = x_train.reshape(-1, 28, 28, 1)
x_test = x_test.reshape(-1, 28, 28, 1)

H = model.fit(x_train, y_train, validation_data=(x_test, y_test), batch_size=batch_size, epochs=epochs, verbose=2)

# evaluate
model.evaluate(x_test, y_test, batch_size=batch_size, verbose=2)

training_loss = H.history['loss']
epoch_count = len(training_loss)

plt.style.use("ggplot")
plt.figure()
plt.plot(np.arange(0, epoch_count), H.history["loss"], label="train_loss")
plt.plot(np.arange(0, epoch_count), H.history["val_loss"], label="val_loss")
plt.plot(np.arange(0, epoch_count), H.history["accuracy"], label="train_acc")
plt.plot(np.arange(0, epoch_count), H.history["val_accuracy"], label="val_acc")
plt.title("Training Loss and Accuracy")
plt.xlabel("Epoch #")
plt.ylabel("Loss/Accuracy")
plt.legend()


probability_model = tf.keras.Sequential([model,
                                         tf.keras.layers.Softmax()])
predictions = probability_model.predict(x_test)

test_loss, test_acc = model.evaluate(x_test,  y_test, verbose=1)

print('\nTest accuracy:', test_acc)

# show the graph 

def plot_image(i, predictions_array, true_label, img):
  true_label, img = true_label[i], img[i]
  plt.grid(False)
  plt.xticks([])
  plt.yticks([])

  plt.imshow(img, cmap=plt.cm.binary)

  predicted_label = np.argmax(predictions_array)
  if predicted_label == true_label:
    color = 'blue'
  else:
    color = 'black'


  plt.xlabel("{} {:2.0f}% ({})".format(classes[predicted_label],
                                100*np.max(predictions_array),
                                classes[true_label]),
                                color=color)
plt.rcParams.update({'font.size': 7})

def plot_value_array(i, predictions_array, true_label):
  true_label = true_label[i]
  plt.grid(False)
  plt.xticks(range(2))
  plt.yticks([])
  thisplot = plt.bar(range(2), predictions_array, color="#777777")
  plt.ylim([0, 1])
  predicted_label = np.argmax(predictions_array)

  thisplot[predicted_label].set_color('black')
  thisplot[true_label].set_color('blue')

num_rows = 8
num_cols = 3
num_images = num_rows*num_cols
plt.figure(figsize=(2*2*num_cols, 2*num_rows))
for i in range(num_images):
  plt.subplot(num_rows, 2*num_cols, 2*i+1)
  plot_image(i, predictions[i], y_test, x_test)
  plt.subplot(num_rows, 2*num_cols, 2*i+2)
  plot_value_array(i, predictions[i], y_test)
plt.tight_layout()
plt.show()
